{
 "cells": [
  {
   "cell_type": "code",
   "execution_count": 1,
   "metadata": {},
   "outputs": [],
   "source": [
    "import pandas as pd\n",
    "import os\n",
    "from tqdm import tqdm"
   ]
  },
  {
   "cell_type": "code",
   "execution_count": 2,
   "metadata": {},
   "outputs": [],
   "source": [
    "audios_path =os.path.join('dataset','audio')\n",
    "prompts_path = os.path.join('dataset','prompts')"
   ]
  },
  {
   "cell_type": "markdown",
   "metadata": {},
   "source": [
    "### CSV File Path Generation for Audio and Prompt Files"
   ]
  },
  {
   "cell_type": "code",
   "execution_count": 5,
   "metadata": {},
   "outputs": [],
   "source": [
    "audio_list, prompt_list = [], []\n",
    "for path in os.listdir(audios_path):\n",
    "    audio_list.append(os.path.join(audios_path, path))\n",
    "\n",
    "for path in os.listdir(prompts_path):\n",
    "    prompt_list.append(os.path.join(prompts_path, path))\n",
    "\n",
    "df = pd.DataFrame({\"Audio path\": audio_list, \"Prompt path\": prompt_list})\n",
    "df.to_csv(\"dataset/file_paths.csv\", index= False)"
   ]
  },
  {
   "cell_type": "markdown",
   "metadata": {},
   "source": [
    "### Data Cleaning and Dataset Path Generation"
   ]
  },
  {
   "cell_type": "code",
   "execution_count": 2,
   "metadata": {},
   "outputs": [],
   "source": [
    "audio_list, prompt_list = [], []\n",
    "df = pd.read_csv(\"dataset/file_paths.csv\")\n",
    "\n",
    "for audio_path, prompt_path in zip(df['Audio path'], df['Prompt path']):\n",
    "    prompt = open(prompt_path, 'r').read()\n",
    "    if '[' in prompt or '_jpg' in prompt or 'xxx' in prompt or '.jpg' in prompt:\n",
    "        pass\n",
    "    else:\n",
    "        audio_list.append(audio_path)\n",
    "        prompt_list.append(prompt.strip())\n",
    "\n",
    "df = pd.DataFrame({\"audio path\":audio_list, \"prompt\": prompt_list})\n",
    "df.to_csv(\"dataset/dataset_paths.csv\", index= False)"
   ]
  }
 ],
 "metadata": {
  "kernelspec": {
   "display_name": "Python 3",
   "language": "python",
   "name": "python3"
  },
  "language_info": {
   "codemirror_mode": {
    "name": "ipython",
    "version": 3
   },
   "file_extension": ".py",
   "mimetype": "text/x-python",
   "name": "python",
   "nbconvert_exporter": "python",
   "pygments_lexer": "ipython3",
   "version": "3.10.8"
  },
  "orig_nbformat": 4
 },
 "nbformat": 4,
 "nbformat_minor": 2
}
