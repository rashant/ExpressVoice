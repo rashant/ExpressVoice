{
 "cells": [
  {
   "cell_type": "code",
   "execution_count": 1,
   "metadata": {},
   "outputs": [],
   "source": [
    "import os\n",
    "import librosa\n",
    "import numpy as np\n",
    "import re\n",
    "import pandas as pd\n",
    "from tqdm import tqdm\n",
    "import keras\n",
    "import tensorflow as tf"
   ]
  },
  {
   "cell_type": "code",
   "execution_count": 2,
   "metadata": {},
   "outputs": [],
   "source": [
    "# Define the paths to your audio and text data folders\n",
    "df = pd.read_csv('dataset/dataset_paths.csv')"
   ]
  },
  {
   "cell_type": "code",
   "execution_count": 3,
   "metadata": {},
   "outputs": [],
   "source": [
    "def load_audio(audio_path):\n",
    "    try:\n",
    "        audio, sr = librosa.load(audio_path)\n",
    "        return audio, sr\n",
    "    except Exception as e:\n",
    "        print(f\"Error in loading audio file {audio_path}: {str(e)}\")\n",
    "        return None"
   ]
  },
  {
   "cell_type": "code",
   "execution_count": 4,
   "metadata": {},
   "outputs": [],
   "source": [
    "def preprocess_audio(audio, sr):\n",
    "    mfccs = librosa.feature.mfcc(y=audio, sr=sr, n_mfcc=13)\n",
    "    return mfccs"
   ]
  },
  {
   "cell_type": "code",
   "execution_count": 5,
   "metadata": {},
   "outputs": [],
   "source": [
    "audio, sr = load_audio(df['audio path'][0])"
   ]
  },
  {
   "cell_type": "code",
   "execution_count": 6,
   "metadata": {},
   "outputs": [],
   "source": [
    "mfcc = preprocess_audio(audio, sr = sr)"
   ]
  },
  {
   "cell_type": "code",
   "execution_count": 7,
   "metadata": {},
   "outputs": [],
   "source": [
    "# Function to clean and preprocess text transcriptions (you can add more text cleaning steps)\n",
    "def clean_and_preprocess_text(text):\n",
    "    # Remove leading/trailing whitespaces and convert to lowercase\n",
    "    text = text.strip().lower()\n",
    "    text = text.replace(\" \", \"<SPACE>\")\n",
    "    text = re.sub(r'[^a-z ]', '', text)\n",
    "    return text"
   ]
  },
  {
   "cell_type": "code",
   "execution_count": 8,
   "metadata": {},
   "outputs": [
    {
     "name": "stdout",
     "output_type": "stream",
     "text": [
      "The vocabulary is: ['', 'a', 'b', 'c', 'd', 'e', 'f', 'g', 'h', 'i', 'j', 'k', 'l', 'm', 'n', 'o', 'p', 'q', 'r', 's', 't', 'u', 'v', 'w', 'x', 'y', 'z', ' '] (size =28)\n"
     ]
    }
   ],
   "source": [
    "characters = [x for x in \"abcdefghijklmnopqrstuvwxyz \"]\n",
    "# Mapping characters to integers\n",
    "char_to_num = keras.layers.StringLookup(vocabulary=characters, oov_token=\"\")\n",
    "# Mapping integers back to original characters\n",
    "num_to_char = keras.layers.StringLookup(\n",
    "    vocabulary=char_to_num.get_vocabulary(), oov_token=\"\", invert=True\n",
    ")\n",
    "\n",
    "print(\n",
    "    f\"The vocabulary is: {char_to_num.get_vocabulary()} \"\n",
    "    f\"(size ={char_to_num.vocabulary_size()})\"\n",
    ")"
   ]
  },
  {
   "cell_type": "code",
   "execution_count": 9,
   "metadata": {},
   "outputs": [],
   "source": [
    "# Data preprocessing pipeline\n",
    "def data_preprocessing_pipeline(df):\n",
    "\n",
    "    for audio_path, transcription in tqdm(zip(df['audio path'], df['prompt'])):\n",
    "        # Load and preprocess audio\n",
    "        audio, sr = load_audio(audio_path)\n",
    "        mfccs = preprocess_audio(audio, sr)\n",
    "\n",
    "        if mfccs is not None:            \n",
    "            # Clean and preprocess text transcription\n",
    "            cleaned_transcription = clean_and_preprocess_text(transcription)\n",
    "            label = tf.strings.unicode_split(cleaned_transcription, input_encoding=\"UTF-8\")\n",
    "\n",
    "            # Convert text to integer sequence\n",
    "            integer_sequence = char_to_num(label)\n",
    "            file_name = audio_path.split('\\\\')[-1].split('.')[0]\n",
    "            # Save the preprocessed data (you can modify this to save in a suitable format)\n",
    "            audio_output_path = os.path.join('preprocessed','audio', f\"{file_name}.npy\")\n",
    "            np.save(audio_output_path, mfccs)\n",
    "\n",
    "            text_output_path = os.path.join('preprocessed','text', f\"{file_name}.npy\")\n",
    "            np.save(text_output_path, integer_sequence)"
   ]
  },
  {
   "cell_type": "code",
   "execution_count": 10,
   "metadata": {},
   "outputs": [
    {
     "name": "stderr",
     "output_type": "stream",
     "text": [
      "0it [00:00, ?it/s]"
     ]
    },
    {
     "name": "stderr",
     "output_type": "stream",
     "text": [
      "4795it [03:26, 20.40it/s]d:\\prashant\\softwares\\Python\\lib\\site-packages\\librosa\\core\\spectrum.py:256: UserWarning: n_fft=2048 is too large for input signal of length=946\n",
      "  warnings.warn(\n",
      "4822it [03:28, 14.71it/s]d:\\prashant\\softwares\\Python\\lib\\site-packages\\librosa\\core\\spectrum.py:256: UserWarning: n_fft=2048 is too large for input signal of length=207\n",
      "  warnings.warn(\n",
      "d:\\prashant\\softwares\\Python\\lib\\site-packages\\librosa\\core\\spectrum.py:256: UserWarning: n_fft=2048 is too large for input signal of length=1317\n",
      "  warnings.warn(\n",
      "d:\\prashant\\softwares\\Python\\lib\\site-packages\\librosa\\core\\spectrum.py:256: UserWarning: n_fft=2048 is too large for input signal of length=215\n",
      "  warnings.warn(\n",
      "4826it [03:28, 18.05it/s]d:\\prashant\\softwares\\Python\\lib\\site-packages\\librosa\\core\\spectrum.py:256: UserWarning: n_fft=2048 is too large for input signal of length=1295\n",
      "  warnings.warn(\n",
      "d:\\prashant\\softwares\\Python\\lib\\site-packages\\librosa\\core\\spectrum.py:256: UserWarning: n_fft=2048 is too large for input signal of length=214\n",
      "  warnings.warn(\n",
      "4828it [03:29, 15.10it/s]d:\\prashant\\softwares\\Python\\lib\\site-packages\\librosa\\core\\spectrum.py:256: UserWarning: n_fft=2048 is too large for input signal of length=920\n",
      "  warnings.warn(\n",
      "4830it [03:29, 12.89it/s]d:\\prashant\\softwares\\Python\\lib\\site-packages\\librosa\\core\\spectrum.py:256: UserWarning: n_fft=2048 is too large for input signal of length=582\n",
      "  warnings.warn(\n",
      "4832it [03:29, 12.52it/s]d:\\prashant\\softwares\\Python\\lib\\site-packages\\librosa\\core\\spectrum.py:256: UserWarning: n_fft=2048 is too large for input signal of length=581\n",
      "  warnings.warn(\n",
      "4834it [03:29, 12.44it/s]d:\\prashant\\softwares\\Python\\lib\\site-packages\\librosa\\core\\spectrum.py:256: UserWarning: n_fft=2048 is too large for input signal of length=575\n",
      "  warnings.warn(\n",
      "d:\\prashant\\softwares\\Python\\lib\\site-packages\\librosa\\core\\spectrum.py:256: UserWarning: n_fft=2048 is too large for input signal of length=1663\n",
      "  warnings.warn(\n",
      "4836it [03:29, 10.52it/s]d:\\prashant\\softwares\\Python\\lib\\site-packages\\librosa\\core\\spectrum.py:256: UserWarning: n_fft=2048 is too large for input signal of length=209\n",
      "  warnings.warn(\n",
      "4838it [03:30, 10.54it/s]d:\\prashant\\softwares\\Python\\lib\\site-packages\\librosa\\core\\spectrum.py:256: UserWarning: n_fft=2048 is too large for input signal of length=185\n",
      "  warnings.warn(\n",
      "d:\\prashant\\softwares\\Python\\lib\\site-packages\\librosa\\core\\spectrum.py:256: UserWarning: n_fft=2048 is too large for input signal of length=559\n",
      "  warnings.warn(\n",
      "4841it [03:30, 13.54it/s]d:\\prashant\\softwares\\Python\\lib\\site-packages\\librosa\\core\\spectrum.py:256: UserWarning: n_fft=2048 is too large for input signal of length=189\n",
      "  warnings.warn(\n",
      "d:\\prashant\\softwares\\Python\\lib\\site-packages\\librosa\\core\\spectrum.py:256: UserWarning: n_fft=2048 is too large for input signal of length=583\n",
      "  warnings.warn(\n",
      "4844it [03:30, 15.80it/s]d:\\prashant\\softwares\\Python\\lib\\site-packages\\librosa\\core\\spectrum.py:256: UserWarning: n_fft=2048 is too large for input signal of length=182\n",
      "  warnings.warn(\n",
      "7816it [05:57, 21.85it/s]\n"
     ]
    }
   ],
   "source": [
    "# Execute the data preprocessing pipeline\n",
    "data_preprocessing_pipeline(df)"
   ]
  },
  {
   "cell_type": "code",
   "execution_count": 11,
   "metadata": {},
   "outputs": [],
   "source": [
    "import pandas as pd\n",
    "afile_names = []\n",
    "ffile_names = []\n",
    "\n",
    "for i in os.listdir('preprocessed/audio'):\n",
    "    afile_names.append(os.path.join('preprocessed','audio', i))\n",
    "for i in os.listdir('preprocessed/text'):\n",
    "    ffile_names.append(os.path.join('preprocessed','text', i))\n",
    "\n",
    "df = pd.DataFrame({\"audio path\":afile_names, \"text path\":ffile_names})\n",
    "df.to_csv('preprocessed/file_paths.csv')"
   ]
  }
 ],
 "metadata": {
  "kernelspec": {
   "display_name": "Python 3",
   "language": "python",
   "name": "python3"
  },
  "language_info": {
   "codemirror_mode": {
    "name": "ipython",
    "version": 3
   },
   "file_extension": ".py",
   "mimetype": "text/x-python",
   "name": "python",
   "nbconvert_exporter": "python",
   "pygments_lexer": "ipython3",
   "version": "3.10.8"
  }
 },
 "nbformat": 4,
 "nbformat_minor": 2
}
